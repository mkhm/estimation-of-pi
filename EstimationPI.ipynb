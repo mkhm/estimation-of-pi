{
 "cells": [
  {
   "cell_type": "markdown",
   "metadata": {},
   "source": [
    "#Estimation of PI"
   ]
  },
  {
   "cell_type": "code",
   "execution_count": 1,
   "metadata": {
    "collapsed": true
   },
   "outputs": [],
   "source": [
    "import numpy as np\n",
    "import scipy as sp"
   ]
  },
  {
   "cell_type": "code",
   "execution_count": 2,
   "metadata": {
    "collapsed": false
   },
   "outputs": [],
   "source": [
    "def computePI(n):\n",
    "    x = np.random.rand(2*n).reshape(n,2)\n",
    "    x = 2*x-1\n",
    "\n",
    "    d = np.linalg.norm(x, axis=1)\n",
    "    nCircle = np.where(d<1)[0].size\n",
    "\n",
    "    return 4*(np.float64(nCircle)/n), nCircle"
   ]
  },
  {
   "cell_type": "code",
   "execution_count": 5,
   "metadata": {
    "collapsed": false
   },
   "outputs": [
    {
     "name": "stdout",
     "output_type": "stream",
     "text": [
      "Wall time: 1.67 s\n"
     ]
    },
    {
     "data": {
      "text/plain": [
       "(3.141886, 7854715)"
      ]
     },
     "execution_count": 5,
     "metadata": {},
     "output_type": "execute_result"
    }
   ],
   "source": [
    "%%time\n",
    "computePI(10000000) # 10 million points"
   ]
  },
  {
   "cell_type": "code",
   "execution_count": 7,
   "metadata": {
    "collapsed": false
   },
   "outputs": [
    {
     "name": "stdout",
     "output_type": "stream",
     "text": [
      "10 loops, best of 3: 172 ms per loop\n"
     ]
    }
   ],
   "source": [
    "%timeit computePI(1000000)"
   ]
  },
  {
   "cell_type": "code",
   "execution_count": 8,
   "metadata": {
    "collapsed": false
   },
   "outputs": [],
   "source": [
    "def computePIbyPrecision(precision=10**-10, nStep=10000):\n",
    "    pi = 100\n",
    "    n = 0\n",
    "    nCircle = 0\n",
    "\n",
    "    while True:\n",
    "        var = computePI(nStep)\n",
    "        nCircle += var[1]\n",
    "        n += 10000\n",
    "        pi_previous = pi\n",
    "        pi = 4*(np.float64(nCircle)/n)\n",
    "\n",
    "        diff = abs((pi - pi_previous)/pi)\n",
    "        if diff < precision:\n",
    "            if diff == 0:\n",
    "                continue\n",
    "            break\n",
    "        \n",
    "    return pi, diff, n\n",
    "    "
   ]
  },
  {
   "cell_type": "code",
   "execution_count": 48,
   "metadata": {
    "collapsed": false
   },
   "outputs": [
    {
     "name": "stdout",
     "output_type": "stream",
     "text": [
      "PI: 3.1415463485 Diff: 9.97374451262e-11 N: 1712310000\n",
      "Wall time: 4min 5s\n"
     ]
    }
   ],
   "source": [
    "%%time\n",
    "pi, diff, n = computePIbyPrecision(precision=10**-10)\n",
    "print 'PI:', pi, 'Diff:', diff, 'N:', n"
   ]
  },
  {
   "cell_type": "code",
   "execution_count": 53,
   "metadata": {
    "collapsed": false
   },
   "outputs": [
    {
     "name": "stdout",
     "output_type": "stream",
     "text": [
      "PI: 0.314156582308 Diff: 9.99914147603e-10 N: 4984650000\n",
      "Wall time: 1min 43s\n"
     ]
    }
   ],
   "source": [
    "%%time\n",
    "pi, diff, n = computePIbyPrecision(precision=10**-9, nStep=1000)\n",
    "print 'PI:', pi, 'Diff:', diff, 'N:', n"
   ]
  },
  {
   "cell_type": "code",
   "execution_count": null,
   "metadata": {
    "collapsed": true
   },
   "outputs": [],
   "source": []
  },
  {
   "cell_type": "code",
   "execution_count": null,
   "metadata": {
    "collapsed": true
   },
   "outputs": [],
   "source": []
  }
 ],
 "metadata": {
  "kernelspec": {
   "display_name": "Python 2",
   "language": "python",
   "name": "python2"
  },
  "language_info": {
   "codemirror_mode": {
    "name": "ipython",
    "version": 2
   },
   "file_extension": ".py",
   "mimetype": "text/x-python",
   "name": "python",
   "nbconvert_exporter": "python",
   "pygments_lexer": "ipython2",
   "version": "2.7.8"
  }
 },
 "nbformat": 4,
 "nbformat_minor": 0
}
